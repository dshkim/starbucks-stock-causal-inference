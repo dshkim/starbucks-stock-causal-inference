{
 "cells": [
  {
   "cell_type": "code",
   "execution_count": 1,
   "metadata": {},
   "outputs": [
    {
     "name": "stdout",
     "output_type": "stream",
     "text": [
      "Warning - Certain functionality \n",
      "             requires requests_html, which is not installed.\n",
      "             \n",
      "             Install using: \n",
      "             pip install requests_html\n",
      "             \n",
      "             After installation, you may have to restart your Python session.\n"
     ]
    }
   ],
   "source": [
    "#Import packages\n",
    "import pandas as pd\n",
    "import numpy as np\n",
    "import matplotlib.pyplot as plt\n",
    "import datetime\n",
    "import statsmodels.formula.api as smf\n",
    "from yahoo_fin import stock_info as si"
   ]
  },
  {
   "cell_type": "code",
   "execution_count": 2,
   "metadata": {},
   "outputs": [
    {
     "name": "stdout",
     "output_type": "stream",
     "text": [
      "          date        open        high         low       close    adjclose  \\\n",
      "0   2024-01-02   95.449997   95.949997   93.620003   93.669998   91.853561   \n",
      "1   2024-01-03   93.959999   94.239998   93.059998   93.230003   91.422096   \n",
      "2   2024-01-04   93.099998   94.580002   93.000000   93.550003   91.735893   \n",
      "3   2024-01-05   93.330002   93.580002   92.480003   92.989998   91.186745   \n",
      "4   2024-01-08   93.019997   94.570000   92.949997   94.190002   92.363472   \n",
      "..         ...         ...         ...         ...         ...         ...   \n",
      "151 2024-08-08  268.929993  273.649994  268.079987  271.190002  271.190002   \n",
      "152 2024-08-09  271.700012  271.700012  266.959991  267.910004  267.910004   \n",
      "153 2024-08-12  267.459991  269.529999  265.329987  269.459991  269.459991   \n",
      "154 2024-08-13  270.309998  272.000000  267.540009  270.309998  270.309998   \n",
      "155 2024-08-14  269.859985  271.510010  268.500000  271.149994  271.149994   \n",
      "\n",
      "      volume ticker  \n",
      "0    8859700   SBUX  \n",
      "1    7161700   SBUX  \n",
      "2    7118600   SBUX  \n",
      "3    7189900   SBUX  \n",
      "4    7536900   SBUX  \n",
      "..       ...    ...  \n",
      "151  3227200    MCD  \n",
      "152  2664900    MCD  \n",
      "153  3008100    MCD  \n",
      "154  2603600    MCD  \n",
      "155  2242100    MCD  \n",
      "\n",
      "[780 rows x 8 columns]\n"
     ]
    }
   ],
   "source": [
    "#Define date range\n",
    "start_date = '01-01-2024'\n",
    "end_date = '08-15-2024'\n",
    "\n",
    "#Extract data\n",
    "df=pd.DataFrame()\n",
    "for ticker in list(['SBUX','VOO','QSR','YUM','MCD']):\n",
    "    df=pd.concat([df,si.get_data(ticker,interval='1d',start_date=start_date, end_date=end_date,index_as_date=False)]) \n",
    "\n",
    "print(df)\n",
    "\n",
    "#Calculate Daily Returns \n",
    "df['returns'] = np.where(df['ticker']==df['ticker'].shift(), (df['close']/df['close'].shift())-1, np.nan)"
   ]
  },
  {
   "cell_type": "code",
   "execution_count": 3,
   "metadata": {},
   "outputs": [
    {
     "data": {
      "text/html": [
       "<div>\n",
       "<style scoped>\n",
       "    .dataframe tbody tr th:only-of-type {\n",
       "        vertical-align: middle;\n",
       "    }\n",
       "\n",
       "    .dataframe tbody tr th {\n",
       "        vertical-align: top;\n",
       "    }\n",
       "\n",
       "    .dataframe thead th {\n",
       "        text-align: right;\n",
       "    }\n",
       "</style>\n",
       "<table border=\"1\" class=\"dataframe\">\n",
       "  <thead>\n",
       "    <tr style=\"text-align: right;\">\n",
       "      <th></th>\n",
       "      <th>date</th>\n",
       "      <th>open</th>\n",
       "      <th>high</th>\n",
       "      <th>low</th>\n",
       "      <th>close</th>\n",
       "      <th>adjclose</th>\n",
       "      <th>volume</th>\n",
       "      <th>ticker</th>\n",
       "      <th>returns</th>\n",
       "    </tr>\n",
       "  </thead>\n",
       "  <tbody>\n",
       "    <tr>\n",
       "      <th>0</th>\n",
       "      <td>2024-01-02</td>\n",
       "      <td>95.449997</td>\n",
       "      <td>95.949997</td>\n",
       "      <td>93.620003</td>\n",
       "      <td>93.669998</td>\n",
       "      <td>91.853561</td>\n",
       "      <td>8859700</td>\n",
       "      <td>SBUX</td>\n",
       "      <td>NaN</td>\n",
       "    </tr>\n",
       "    <tr>\n",
       "      <th>1</th>\n",
       "      <td>2024-01-03</td>\n",
       "      <td>93.959999</td>\n",
       "      <td>94.239998</td>\n",
       "      <td>93.059998</td>\n",
       "      <td>93.230003</td>\n",
       "      <td>91.422096</td>\n",
       "      <td>7161700</td>\n",
       "      <td>SBUX</td>\n",
       "      <td>-0.004697</td>\n",
       "    </tr>\n",
       "    <tr>\n",
       "      <th>2</th>\n",
       "      <td>2024-01-04</td>\n",
       "      <td>93.099998</td>\n",
       "      <td>94.580002</td>\n",
       "      <td>93.000000</td>\n",
       "      <td>93.550003</td>\n",
       "      <td>91.735893</td>\n",
       "      <td>7118600</td>\n",
       "      <td>SBUX</td>\n",
       "      <td>0.003432</td>\n",
       "    </tr>\n",
       "    <tr>\n",
       "      <th>3</th>\n",
       "      <td>2024-01-05</td>\n",
       "      <td>93.330002</td>\n",
       "      <td>93.580002</td>\n",
       "      <td>92.480003</td>\n",
       "      <td>92.989998</td>\n",
       "      <td>91.186745</td>\n",
       "      <td>7189900</td>\n",
       "      <td>SBUX</td>\n",
       "      <td>-0.005986</td>\n",
       "    </tr>\n",
       "    <tr>\n",
       "      <th>4</th>\n",
       "      <td>2024-01-08</td>\n",
       "      <td>93.019997</td>\n",
       "      <td>94.570000</td>\n",
       "      <td>92.949997</td>\n",
       "      <td>94.190002</td>\n",
       "      <td>92.363472</td>\n",
       "      <td>7536900</td>\n",
       "      <td>SBUX</td>\n",
       "      <td>0.012905</td>\n",
       "    </tr>\n",
       "  </tbody>\n",
       "</table>\n",
       "</div>"
      ],
      "text/plain": [
       "        date       open       high        low      close   adjclose   volume  \\\n",
       "0 2024-01-02  95.449997  95.949997  93.620003  93.669998  91.853561  8859700   \n",
       "1 2024-01-03  93.959999  94.239998  93.059998  93.230003  91.422096  7161700   \n",
       "2 2024-01-04  93.099998  94.580002  93.000000  93.550003  91.735893  7118600   \n",
       "3 2024-01-05  93.330002  93.580002  92.480003  92.989998  91.186745  7189900   \n",
       "4 2024-01-08  93.019997  94.570000  92.949997  94.190002  92.363472  7536900   \n",
       "\n",
       "  ticker   returns  \n",
       "0   SBUX       NaN  \n",
       "1   SBUX -0.004697  \n",
       "2   SBUX  0.003432  \n",
       "3   SBUX -0.005986  \n",
       "4   SBUX  0.012905  "
      ]
     },
     "execution_count": 3,
     "metadata": {},
     "output_type": "execute_result"
    }
   ],
   "source": [
    "df.head()"
   ]
  },
  {
   "cell_type": "code",
   "execution_count": null,
   "metadata": {},
   "outputs": [],
   "source": [
    "#Save DataFrame as CSV\n",
    "df.to_csv('sbux_ceo_prices.csv', index=False)"
   ]
  }
 ],
 "metadata": {
  "kernelspec": {
   "display_name": "base",
   "language": "python",
   "name": "python3"
  },
  "language_info": {
   "codemirror_mode": {
    "name": "ipython",
    "version": 3
   },
   "file_extension": ".py",
   "mimetype": "text/x-python",
   "name": "python",
   "nbconvert_exporter": "python",
   "pygments_lexer": "ipython3",
   "version": "3.12.2"
  }
 },
 "nbformat": 4,
 "nbformat_minor": 2
}
