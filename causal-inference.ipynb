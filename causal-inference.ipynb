{
 "cells": [
  {
   "cell_type": "code",
   "execution_count": 1,
   "metadata": {},
   "outputs": [],
   "source": [
    "#Import packages\n",
    "import pandas as pd\n",
    "import numpy as np\n",
    "import matplotlib.pyplot as plt\n",
    "import datetime\n",
    "import statsmodels.formula.api as smf"
   ]
  },
  {
   "cell_type": "code",
   "execution_count": 2,
   "metadata": {},
   "outputs": [
    {
     "data": {
      "text/html": [
       "<div>\n",
       "<style scoped>\n",
       "    .dataframe tbody tr th:only-of-type {\n",
       "        vertical-align: middle;\n",
       "    }\n",
       "\n",
       "    .dataframe tbody tr th {\n",
       "        vertical-align: top;\n",
       "    }\n",
       "\n",
       "    .dataframe thead th {\n",
       "        text-align: right;\n",
       "    }\n",
       "</style>\n",
       "<table border=\"1\" class=\"dataframe\">\n",
       "  <thead>\n",
       "    <tr style=\"text-align: right;\">\n",
       "      <th></th>\n",
       "      <th>date</th>\n",
       "      <th>open</th>\n",
       "      <th>high</th>\n",
       "      <th>low</th>\n",
       "      <th>close</th>\n",
       "      <th>adjclose</th>\n",
       "      <th>volume</th>\n",
       "      <th>ticker</th>\n",
       "      <th>returns</th>\n",
       "    </tr>\n",
       "  </thead>\n",
       "  <tbody>\n",
       "    <tr>\n",
       "      <th>1</th>\n",
       "      <td>2024-01-03</td>\n",
       "      <td>93.959999</td>\n",
       "      <td>94.239998</td>\n",
       "      <td>93.059998</td>\n",
       "      <td>93.230003</td>\n",
       "      <td>91.422096</td>\n",
       "      <td>7161700</td>\n",
       "      <td>SBUX</td>\n",
       "      <td>-0.004697</td>\n",
       "    </tr>\n",
       "    <tr>\n",
       "      <th>2</th>\n",
       "      <td>2024-01-04</td>\n",
       "      <td>93.099998</td>\n",
       "      <td>94.580002</td>\n",
       "      <td>93.000000</td>\n",
       "      <td>93.550003</td>\n",
       "      <td>91.735893</td>\n",
       "      <td>7118600</td>\n",
       "      <td>SBUX</td>\n",
       "      <td>0.003432</td>\n",
       "    </tr>\n",
       "    <tr>\n",
       "      <th>3</th>\n",
       "      <td>2024-01-05</td>\n",
       "      <td>93.330002</td>\n",
       "      <td>93.580002</td>\n",
       "      <td>92.480003</td>\n",
       "      <td>92.989998</td>\n",
       "      <td>91.186745</td>\n",
       "      <td>7189900</td>\n",
       "      <td>SBUX</td>\n",
       "      <td>-0.005986</td>\n",
       "    </tr>\n",
       "    <tr>\n",
       "      <th>4</th>\n",
       "      <td>2024-01-08</td>\n",
       "      <td>93.019997</td>\n",
       "      <td>94.570000</td>\n",
       "      <td>92.949997</td>\n",
       "      <td>94.190002</td>\n",
       "      <td>92.363480</td>\n",
       "      <td>7536900</td>\n",
       "      <td>SBUX</td>\n",
       "      <td>0.012905</td>\n",
       "    </tr>\n",
       "    <tr>\n",
       "      <th>5</th>\n",
       "      <td>2024-01-09</td>\n",
       "      <td>93.610001</td>\n",
       "      <td>93.730003</td>\n",
       "      <td>92.860001</td>\n",
       "      <td>93.089996</td>\n",
       "      <td>91.284805</td>\n",
       "      <td>6348500</td>\n",
       "      <td>SBUX</td>\n",
       "      <td>-0.011679</td>\n",
       "    </tr>\n",
       "  </tbody>\n",
       "</table>\n",
       "</div>"
      ],
      "text/plain": [
       "         date       open       high        low      close   adjclose   volume  \\\n",
       "1  2024-01-03  93.959999  94.239998  93.059998  93.230003  91.422096  7161700   \n",
       "2  2024-01-04  93.099998  94.580002  93.000000  93.550003  91.735893  7118600   \n",
       "3  2024-01-05  93.330002  93.580002  92.480003  92.989998  91.186745  7189900   \n",
       "4  2024-01-08  93.019997  94.570000  92.949997  94.190002  92.363480  7536900   \n",
       "5  2024-01-09  93.610001  93.730003  92.860001  93.089996  91.284805  6348500   \n",
       "\n",
       "  ticker   returns  \n",
       "1   SBUX -0.004697  \n",
       "2   SBUX  0.003432  \n",
       "3   SBUX -0.005986  \n",
       "4   SBUX  0.012905  \n",
       "5   SBUX -0.011679  "
      ]
     },
     "execution_count": 2,
     "metadata": {},
     "output_type": "execute_result"
    }
   ],
   "source": [
    "#Define event date\n",
    "event_date = '2024-08-13'\n",
    "\n",
    "#Load data\n",
    "prices = pd.read_csv('sbux_ceo_prices.csv')\n",
    "prices = prices[prices['returns'].isnull()==0].copy()\n",
    "prices.head()"
   ]
  },
  {
   "cell_type": "code",
   "execution_count": 3,
   "metadata": {},
   "outputs": [
    {
     "name": "stdout",
     "output_type": "stream",
     "text": [
      "Last Market Value: $ 87259582617\n"
     ]
    },
    {
     "data": {
      "text/html": [
       "<div>\n",
       "<style scoped>\n",
       "    .dataframe tbody tr th:only-of-type {\n",
       "        vertical-align: middle;\n",
       "    }\n",
       "\n",
       "    .dataframe tbody tr th {\n",
       "        vertical-align: top;\n",
       "    }\n",
       "\n",
       "    .dataframe thead th {\n",
       "        text-align: right;\n",
       "    }\n",
       "</style>\n",
       "<table border=\"1\" class=\"dataframe\">\n",
       "  <thead>\n",
       "    <tr style=\"text-align: right;\">\n",
       "      <th></th>\n",
       "      <th>count</th>\n",
       "      <th>mean</th>\n",
       "      <th>std</th>\n",
       "    </tr>\n",
       "    <tr>\n",
       "      <th>ticker</th>\n",
       "      <th></th>\n",
       "      <th></th>\n",
       "      <th></th>\n",
       "    </tr>\n",
       "  </thead>\n",
       "  <tbody>\n",
       "    <tr>\n",
       "      <th>MCD</th>\n",
       "      <td>153</td>\n",
       "      <td>-0.000568</td>\n",
       "      <td>0.011725</td>\n",
       "    </tr>\n",
       "    <tr>\n",
       "      <th>QSR</th>\n",
       "      <td>153</td>\n",
       "      <td>-0.000522</td>\n",
       "      <td>0.014667</td>\n",
       "    </tr>\n",
       "    <tr>\n",
       "      <th>SBUX</th>\n",
       "      <td>153</td>\n",
       "      <td>-0.001079</td>\n",
       "      <td>0.019548</td>\n",
       "    </tr>\n",
       "    <tr>\n",
       "      <th>VOO</th>\n",
       "      <td>153</td>\n",
       "      <td>0.000826</td>\n",
       "      <td>0.007927</td>\n",
       "    </tr>\n",
       "    <tr>\n",
       "      <th>YUM</th>\n",
       "      <td>153</td>\n",
       "      <td>0.000379</td>\n",
       "      <td>0.010292</td>\n",
       "    </tr>\n",
       "  </tbody>\n",
       "</table>\n",
       "</div>"
      ],
      "text/plain": [
       "        count      mean       std\n",
       "ticker                           \n",
       "MCD       153 -0.000568  0.011725\n",
       "QSR       153 -0.000522  0.014667\n",
       "SBUX      153 -0.001079  0.019548\n",
       "VOO       153  0.000826  0.007927\n",
       "YUM       153  0.000379  0.010292"
      ]
     },
     "execution_count": 3,
     "metadata": {},
     "output_type": "execute_result"
    }
   ],
   "source": [
    "#Define total shares of SBUX\n",
    "total_shares = 1132800000\n",
    "\n",
    "#Filter data before the event\n",
    "pre = prices[prices['date']<event_date].copy()\n",
    "\n",
    "#Find last price before CEO announcement for SBUX\n",
    "lastprice = pre.loc[(pre['date']==max(pre['date'])) & (pre['ticker']=='SBUX'),'close'].values[0]\n",
    "\n",
    "#Calculate Last Market Value\n",
    "lastmarketvalue = lastprice * total_shares\n",
    "print(f\"Last Market Value: $ {round(lastmarketvalue)}\")\n",
    "\n",
    "#Summarize statistics before the event\n",
    "prices[prices['date']<event_date].groupby(['ticker'])['returns'].agg(['count','mean','std'])"
   ]
  },
  {
   "cell_type": "markdown",
   "metadata": {},
   "source": [
    "### Event Study Model"
   ]
  },
  {
   "cell_type": "code",
   "execution_count": 4,
   "metadata": {},
   "outputs": [
    {
     "data": {
      "text/html": [
       "<div>\n",
       "<style scoped>\n",
       "    .dataframe tbody tr th:only-of-type {\n",
       "        vertical-align: middle;\n",
       "    }\n",
       "\n",
       "    .dataframe tbody tr th {\n",
       "        vertical-align: top;\n",
       "    }\n",
       "\n",
       "    .dataframe thead th {\n",
       "        text-align: right;\n",
       "    }\n",
       "</style>\n",
       "<table border=\"1\" class=\"dataframe\">\n",
       "  <thead>\n",
       "    <tr style=\"text-align: right;\">\n",
       "      <th></th>\n",
       "      <th>date</th>\n",
       "      <th>MCD</th>\n",
       "      <th>QSR</th>\n",
       "      <th>SBUX</th>\n",
       "      <th>VOO</th>\n",
       "      <th>YUM</th>\n",
       "    </tr>\n",
       "  </thead>\n",
       "  <tbody>\n",
       "    <tr>\n",
       "      <th>0</th>\n",
       "      <td>2024-01-03</td>\n",
       "      <td>-0.008921</td>\n",
       "      <td>-0.005985</td>\n",
       "      <td>-0.004697</td>\n",
       "      <td>-0.007419</td>\n",
       "      <td>0.000543</td>\n",
       "    </tr>\n",
       "    <tr>\n",
       "      <th>1</th>\n",
       "      <td>2024-01-04</td>\n",
       "      <td>-0.009002</td>\n",
       "      <td>-0.000916</td>\n",
       "      <td>0.003432</td>\n",
       "      <td>-0.003157</td>\n",
       "      <td>-0.003176</td>\n",
       "    </tr>\n",
       "    <tr>\n",
       "      <th>2</th>\n",
       "      <td>2024-01-05</td>\n",
       "      <td>-0.009426</td>\n",
       "      <td>0.001310</td>\n",
       "      <td>-0.005986</td>\n",
       "      <td>0.001281</td>\n",
       "      <td>-0.002720</td>\n",
       "    </tr>\n",
       "    <tr>\n",
       "      <th>3</th>\n",
       "      <td>2024-01-08</td>\n",
       "      <td>0.010070</td>\n",
       "      <td>0.022635</td>\n",
       "      <td>0.012905</td>\n",
       "      <td>0.014303</td>\n",
       "      <td>0.002338</td>\n",
       "    </tr>\n",
       "    <tr>\n",
       "      <th>4</th>\n",
       "      <td>2024-01-09</td>\n",
       "      <td>-0.003529</td>\n",
       "      <td>-0.003199</td>\n",
       "      <td>-0.011679</td>\n",
       "      <td>-0.002430</td>\n",
       "      <td>-0.003265</td>\n",
       "    </tr>\n",
       "  </tbody>\n",
       "</table>\n",
       "</div>"
      ],
      "text/plain": [
       "        date       MCD       QSR      SBUX       VOO       YUM\n",
       "0 2024-01-03 -0.008921 -0.005985 -0.004697 -0.007419  0.000543\n",
       "1 2024-01-04 -0.009002 -0.000916  0.003432 -0.003157 -0.003176\n",
       "2 2024-01-05 -0.009426  0.001310 -0.005986  0.001281 -0.002720\n",
       "3 2024-01-08  0.010070  0.022635  0.012905  0.014303  0.002338\n",
       "4 2024-01-09 -0.003529 -0.003199 -0.011679 -0.002430 -0.003265"
      ]
     },
     "execution_count": 4,
     "metadata": {},
     "output_type": "execute_result"
    }
   ],
   "source": [
    "#Pivot DataFrame\n",
    "df_wide = prices.pivot(index='date', columns='ticker', values='returns')\n",
    "df_wide.reset_index(inplace=True)\n",
    "df_wide.columns.name = None\n",
    "\n",
    "#Convert date to datetime\n",
    "df_wide['date'] = pd.to_datetime(df_wide['date'])\n",
    "\n",
    "df_wide.head()"
   ]
  },
  {
   "cell_type": "code",
   "execution_count": 5,
   "metadata": {},
   "outputs": [
    {
     "name": "stdout",
     "output_type": "stream",
     "text": [
      "                            OLS Regression Results                            \n",
      "==============================================================================\n",
      "Dep. Variable:                   SBUX   R-squared:                       0.670\n",
      "Model:                            OLS   Adj. R-squared:                  0.649\n",
      "Method:                 Least Squares   F-statistic:                     31.66\n",
      "Date:                Fri, 30 Aug 2024   Prob (F-statistic):           1.81e-17\n",
      "Time:                        14:29:58   Log-Likelihood:                 206.12\n",
      "No. Observations:                  84   AIC:                            -400.2\n",
      "Df Residuals:                      78   BIC:                            -385.7\n",
      "Df Model:                           5                                         \n",
      "Covariance Type:            nonrobust                                         \n",
      "==============================================================================\n",
      "                 coef    std err          t      P>|t|      [0.025      0.975]\n",
      "------------------------------------------------------------------------------\n",
      "Intercept     -0.0006      0.002     -0.242      0.809      -0.005       0.004\n",
      "MCD           -0.2654      0.233     -1.138      0.259      -0.730       0.199\n",
      "QSR            0.3962      0.190      2.088      0.040       0.019       0.774\n",
      "VOO           -0.0934      0.297     -0.314      0.754      -0.685       0.498\n",
      "YUM            0.9978      0.265      3.761      0.000       0.470       1.526\n",
      "event          0.2287      0.022     10.259      0.000       0.184       0.273\n",
      "==============================================================================\n",
      "Omnibus:                       31.439   Durbin-Watson:                   2.296\n",
      "Prob(Omnibus):                  0.000   Jarque-Bera (JB):              187.864\n",
      "Skew:                          -0.854   Prob(JB):                     1.61e-41\n",
      "Kurtosis:                      10.124   Cond. No.                         138.\n",
      "==============================================================================\n",
      "\n",
      "Notes:\n",
      "[1] Standard Errors assume that the covariance matrix of the errors is correctly specified.\n"
     ]
    }
   ],
   "source": [
    "#Define cuttoff date\n",
    "cutoff_days = 120\n",
    "event_date = pd.to_datetime(event_date)\n",
    "cutoff = event_date - datetime.timedelta(days=cutoff_days)\n",
    "\n",
    "#Filter data for the analysis window\n",
    "df = df_wide[(df_wide['date'] >= cutoff) & (df_wide['date'] <= event_date)].copy()\n",
    "\n",
    "#Create event indicator variable\n",
    "df['event'] = np.where(df['date']==event_date,1,0)\n",
    "\n",
    "#Define and fit regression model\n",
    "formula = 'SBUX~MCD+QSR+VOO+YUM+event'\n",
    "model = smf.ols(formula=formula, data=df).fit()\n",
    "\n",
    "print(model.summary())"
   ]
  },
  {
   "cell_type": "code",
   "execution_count": 6,
   "metadata": {},
   "outputs": [
    {
     "name": "stdout",
     "output_type": "stream",
     "text": [
      "Estimated Gain: $19,955,241,349\n"
     ]
    }
   ],
   "source": [
    "print(\"Estimated Gain: ${:,}\".format(round(lastmarketvalue*model.params['event'])))"
   ]
  },
  {
   "cell_type": "code",
   "execution_count": 8,
   "metadata": {},
   "outputs": [],
   "source": [
    "def get_event_study_placebos(df_wide, pre_event_dates, cutoff_days, formula):\n",
    "    pvalues = list()\n",
    "    betas = list()\n",
    "    \n",
    "    #Loop through each placebo date\n",
    "    for placebo_date in pre_event_dates:\n",
    "        \n",
    "        #Define cuttoff date and filter data\n",
    "        cutoff = pd.to_datetime(placebo_date) - datetime.timedelta(days=cutoff_days)\n",
    "        placebo_df = df_wide[(df_wide['date'] >= cutoff) & (df_wide['date'] <= placebo_date)].copy()\n",
    "        placebo_df['event'] = np.where(placebo_df['date']==placebo_date,1,0)\n",
    "        \n",
    "        #Fit regression model\n",
    "        placebo_model=smf.ols(formula=formula, data=placebo_df).fit()\n",
    "        \n",
    "        #Store results\n",
    "        pvalues.append(placebo_model.pvalues['event'])\n",
    "        betas.append(placebo_model.params['event'])\n",
    "\n",
    "    #Create DataFrame for Placebo Estimates\n",
    "    placebo_estimates = pd.DataFrame({'betas':betas, 'pvalues':pvalues})\n",
    "    \n",
    "    #Calculate RMSE\n",
    "    rmse = np.sqrt((placebo_estimates['betas']**2).mean())\n",
    "\n",
    "    return(placebo_estimates,rmse)"
   ]
  },
  {
   "cell_type": "code",
   "execution_count": 9,
   "metadata": {},
   "outputs": [
    {
     "name": "stdout",
     "output_type": "stream",
     "text": [
      "RMSE: 0.025\n"
     ]
    }
   ],
   "source": [
    "#Define placebo start date\n",
    "placebo_start = event_date - datetime.timedelta(days=cutoff_days)\n",
    "\n",
    "#Get unique pre-event dates for placebos\n",
    "pre_event_dates = df_wide[(df_wide['date'] >= placebo_start) & (df_wide['date'] < event_date)]['date'].unique()\n",
    "\n",
    "placebo_estimates, rmse = get_event_study_placebos(df_wide, pre_event_dates, cutoff_days, formula)\n",
    "\n",
    "print(f\"RMSE: {rmse:.3f}\")"
   ]
  },
  {
   "cell_type": "code",
   "execution_count": 10,
   "metadata": {},
   "outputs": [],
   "source": [
    "def plot_histogram(df, model, param, mytitle):\n",
    "    quantile_2_5 = df['betas'].quantile(0.025)\n",
    "    quantile_97_5 = df['betas'].quantile(0.975)\n",
    "    model_est = model.params[param]\n",
    "\n",
    "    plt.hist(df['betas'], bins=10, alpha=0.7)\n",
    "    plt.axvline(quantile_2_5, color='black', linestyle='--', linewidth=1, label='2.5th pctl')\n",
    "    plt.axvline(quantile_97_5, color='black', linestyle='--', linewidth=1, label='97.5th pctl')\n",
    "    plt.axvline(model_est, color='red', linestyle='--', linewidth=1, label='Event Impact')\n",
    "    plt.legend(loc='upper left')\n",
    "    plt.title(mytitle)\n",
    "    plt.show()"
   ]
  },
  {
   "cell_type": "code",
   "execution_count": 12,
   "metadata": {},
   "outputs": [
    {
     "data": {
      "image/png": "[encoded data removed]",
      "text/plain": [
       "<Figure size 640x480 with 1 Axes>"
      ]
     },
     "metadata": {},
     "output_type": "display_data"
    }
   ],
   "source": [
    "mytitle = \"SBUX Event Study Placebo Distribution\"\n",
    "plot_histogram(placebo_estimates, model,\"event\", mytitle)"
   ]
  },
  {
   "cell_type": "markdown",
   "metadata": {},
   "source": [
    "### Estimate Difference-in-Difference Model"
   ]
  },
  {
   "cell_type": "code",
   "execution_count": 15,
   "metadata": {},
   "outputs": [],
   "source": [
    "def run_diff_in_diff(df, event_date, treated):\n",
    "    \n",
    "    #Define analysis period and filter data\n",
    "    start_date = event_date - datetime.timedelta(days=180)\n",
    "    df = df[(df['date'] >= start_date) & (df['date'] <= event_date) & (df['returns'].isnull()==0)].copy()\n",
    "    \n",
    "    #Create treatment and time variables\n",
    "    df['treated'] = np.where(df['ticker']==treated, 1, 0)\n",
    "    df['post'] = np.where(df['date']>=event_date, 1, 0)\n",
    "    df['treated_post'] = df['treated'] * df['post']\n",
    "    \n",
    "    #Define and fit regression model\n",
    "    formula = \"returns ~ treated + post + treated_post\"\n",
    "    model = smf.ols(formula=formula, data=df).fit()\n",
    "    \n",
    "    return model"
   ]
  },
  {
   "cell_type": "code",
   "execution_count": 17,
   "metadata": {},
   "outputs": [
    {
     "name": "stdout",
     "output_type": "stream",
     "text": [
      "                            OLS Regression Results                            \n",
      "==============================================================================\n",
      "Dep. Variable:                returns   R-squared:                       0.339\n",
      "Model:                            OLS   Adj. R-squared:                  0.336\n",
      "Method:                 Least Squares   F-statistic:                     105.2\n",
      "Date:                Fri, 30 Aug 2024   Prob (F-statistic):           5.40e-55\n",
      "Time:                        15:16:55   Log-Likelihood:                 1774.3\n",
      "No. Observations:                 620   AIC:                            -3541.\n",
      "Df Residuals:                     616   BIC:                            -3523.\n",
      "Df Model:                           3                                         \n",
      "Covariance Type:            nonrobust                                         \n",
      "================================================================================\n",
      "                   coef    std err          t      P>|t|      [0.025      0.975]\n",
      "--------------------------------------------------------------------------------\n",
      "Intercept    -9.701e-05      0.001     -0.155      0.877      -0.001       0.001\n",
      "treated         -0.0013      0.001     -0.925      0.355      -0.004       0.001\n",
      "post             0.0117      0.007      1.679      0.094      -0.002       0.025\n",
      "treated_post     0.2347      0.016     15.063      0.000       0.204       0.265\n",
      "==============================================================================\n",
      "Omnibus:                      393.962   Durbin-Watson:                   2.064\n",
      "Prob(Omnibus):                  0.000   Jarque-Bera (JB):            19739.502\n",
      "Skew:                          -2.129   Prob(JB):                         0.00\n",
      "Kurtosis:                      30.313   Cond. No.                         29.3\n",
      "==============================================================================\n",
      "\n",
      "Notes:\n",
      "[1] Standard Errors assume that the covariance matrix of the errors is correctly specified.\n"
     ]
    }
   ],
   "source": [
    "#Convert date to datetime and define treated group\n",
    "event_date = pd.to_datetime(event_date)\n",
    "prices['date'] = pd.to_datetime(prices['date'])\n",
    "treated = 'SBUX'\n",
    "\n",
    "#Run Difference-in-Difference Analysis\n",
    "model = run_diff_in_diff(prices, event_date, treated)\n",
    "\n",
    "print(model.summary())"
   ]
  },
  {
   "cell_type": "code",
   "execution_count": 18,
   "metadata": {},
   "outputs": [
    {
     "name": "stdout",
     "output_type": "stream",
     "text": [
      "RMSE: 0.022\n"
     ]
    }
   ],
   "source": [
    "#Define placebo start date\n",
    "placebo_start = event_date - datetime.timedelta(days=120)\n",
    "prices['date'] = pd.to_datetime(prices['date'])\n",
    "\n",
    "#Define placebo dates\n",
    "pre_event_dates = prices[(prices['date'] >= placebo_start) & (prices['date'] < event_date)]['date'].unique()\n",
    "\n",
    "pvalues = list()\n",
    "betas = list()\n",
    "\n",
    "#Perform Placebo Testing\n",
    "for placebo_date in pre_event_dates:\n",
    "    placebo_model=run_diff_in_diff(prices, pd.to_datetime(placebo_date), treated)\n",
    "    pvalues.append(placebo_model.pvalues['treated_post'])\n",
    "    betas.append(placebo_model.params['treated_post'])\n",
    "\n",
    "#Store results in a DataFrame\n",
    "df = pd.DataFrame({'betas':betas, 'pvalues':pvalues})\n",
    "\n",
    "#Calculate RMSE\n",
    "rmse = np.sqrt((df['betas']**2).mean())\n",
    "print(f\"RMSE: {rmse:.3f}\")"
   ]
  },
  {
   "cell_type": "code",
   "execution_count": 20,
   "metadata": {},
   "outputs": [
    {
     "data": {
      "image/png": "[encoded data removed]",
      "text/plain": [
       "<Figure size 640x480 with 1 Axes>"
      ]
     },
     "metadata": {},
     "output_type": "display_data"
    }
   ],
   "source": [
    "mytitle = \"SBUX Diff-in-Diff Placebo Estimates\"\n",
    "plot_histogram(df, model, \"treated_post\", mytitle)"
   ]
  },
  {
   "cell_type": "code",
   "execution_count": 21,
   "metadata": {},
   "outputs": [
    {
     "name": "stdout",
     "output_type": "stream",
     "text": [
      "Estimated Gain: $20,476,849,918\n"
     ]
    }
   ],
   "source": [
    "print(\"Estimated Gain: ${:,}\".format(round(lastmarketvalue*model.params['treated_post'])))"
   ]
  }
 ],
 "metadata": {
  "kernelspec": {
   "display_name": "base",
   "language": "python",
   "name": "python3"
  },
  "language_info": {
   "codemirror_mode": {
    "name": "ipython",
    "version": 3
   },
   "file_extension": ".py",
   "mimetype": "text/x-python",
   "name": "python",
   "nbconvert_exporter": "python",
   "pygments_lexer": "ipython3",
   "version": "3.12.2"
  }
 },
 "nbformat": 4,
 "nbformat_minor": 2
}
